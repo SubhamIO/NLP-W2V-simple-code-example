{
 "cells": [
  {
   "cell_type": "code",
   "execution_count": 2,
   "metadata": {},
   "outputs": [],
   "source": [
    "import nltk\n",
    "\n",
    "from gensim.models import Word2Vec\n",
    "from nltk.corpus import stopwords\n",
    "\n",
    "import re\n",
    "\n",
    "paragraph = \"\"\"I have three visions for India. In 3000 years of our history, people from all over \n",
    "               the world have come and invaded us, captured our lands, conquered our minds. \n",
    "               From Alexander onwards, the Greeks, the Turks, the Moguls, the Portuguese, the British,\n",
    "               the French, the Dutch, all of them came and looted us, took over what was ours. \n",
    "               Yet we have not done this to any other nation. We have not conquered anyone. \n",
    "               We have not grabbed their land, their culture, \n",
    "               their history and tried to enforce our way of life on them. \n",
    "               Why? Because we respect the freedom of others.That is why my \n",
    "               first vision is that of freedom. I believe that India got its first vision of \n",
    "               this in 1857, when we started the War of Independence. It is this freedom that\n",
    "               we must protect and nurture and build on. If we are not free, no one will respect us.\n",
    "               My second vision for India’s development. For fifty years we have been a developing nation.\n",
    "               It is time we see ourselves as a developed nation. We are among the top 5 nations of the world\n",
    "               in terms of GDP. We have a 10 percent growth rate in most areas. Our poverty levels are falling.\n",
    "               Our achievements are being globally recognised today. Yet we lack the self-confidence to\n",
    "               see ourselves as a developed nation, self-reliant and self-assured. Isn’t this incorrect?\n",
    "               I have a third vision. India must stand up to the world. Because I believe that unless India \n",
    "               stands up to the world, no one will respect us. Only strength respects strength. We must be \n",
    "               strong not only as a military power but also as an economic power. Both must go hand-in-hand. \n",
    "               My good fortune was to have worked with three great minds. Dr. Vikram Sarabhai of the Dept. of \n",
    "               space, Professor Satish Dhawan, who succeeded him and Dr. Brahm Prakash, father of nuclear material.\n",
    "               I was lucky to have worked with all three of them closely and consider this the great opportunity of my life. \n",
    "               I see four milestones in my career\"\"\""
   ]
  },
  {
   "cell_type": "code",
   "execution_count": 3,
   "metadata": {},
   "outputs": [
    {
     "name": "stdout",
     "output_type": "stream",
     "text": [
      "i have three visions for india. in years of our history, people from all over the world have come and invaded us, captured our lands, conquered our minds. from alexander onwards, the greeks, the turks, the moguls, the portuguese, the british, the french, the dutch, all of them came and looted us, took over what was ours. yet we have not done this to any other nation. we have not conquered anyone. we have not grabbed their land, their culture, their history and tried to enforce our way of life on them. why? because we respect the freedom of others.that is why my first vision is that of freedom. i believe that india got its first vision of this in , when we started the war of independence. it is this freedom that we must protect and nurture and build on. if we are not free, no one will respect us. my second vision for india’s development. for fifty years we have been a developing nation. it is time we see ourselves as a developed nation. we are among the top nations of the world in terms of gdp. we have a percent growth rate in most areas. our poverty levels are falling. our achievements are being globally recognised today. yet we lack the self-confidence to see ourselves as a developed nation, self-reliant and self-assured. isn’t this incorrect? i have a third vision. india must stand up to the world. because i believe that unless india stands up to the world, no one will respect us. only strength respects strength. we must be strong not only as a military power but also as an economic power. both must go hand-in-hand. my good fortune was to have worked with three great minds. dr. vikram sarabhai of the dept. of space, professor satish dhawan, who succeeded him and dr. brahm prakash, father of nuclear material. i was lucky to have worked with all three of them closely and consider this the great opportunity of my life. i see four milestones in my career\n"
     ]
    }
   ],
   "source": [
    "# Preprocessing the data\n",
    "text = re.sub(r'\\[[0-9]*\\]',' ',paragraph)\n",
    "text = re.sub(r'\\s+',' ',text)\n",
    "text = text.lower()\n",
    "text = re.sub(r'\\d',' ',text)\n",
    "text = re.sub(r'\\s+',' ',text)\n",
    "print(text)"
   ]
  },
  {
   "cell_type": "code",
   "execution_count": 5,
   "metadata": {},
   "outputs": [
    {
     "name": "stderr",
     "output_type": "stream",
     "text": [
      "[nltk_data] Downloading package punkt to /Users/subham/nltk_data...\n",
      "[nltk_data]   Unzipping tokenizers/punkt.zip.\n"
     ]
    },
    {
     "name": "stdout",
     "output_type": "stream",
     "text": [
      "['i have three visions for india.', 'in years of our history, people from all over the world have come and invaded us, captured our lands, conquered our minds.', 'from alexander onwards, the greeks, the turks, the moguls, the portuguese, the british, the french, the dutch, all of them came and looted us, took over what was ours.', 'yet we have not done this to any other nation.', 'we have not conquered anyone.', 'we have not grabbed their land, their culture, their history and tried to enforce our way of life on them.', 'why?', 'because we respect the freedom of others.that is why my first vision is that of freedom.', 'i believe that india got its first vision of this in , when we started the war of independence.', 'it is this freedom that we must protect and nurture and build on.', 'if we are not free, no one will respect us.', 'my second vision for india’s development.', 'for fifty years we have been a developing nation.', 'it is time we see ourselves as a developed nation.', 'we are among the top nations of the world in terms of gdp.', 'we have a percent growth rate in most areas.', 'our poverty levels are falling.', 'our achievements are being globally recognised today.', 'yet we lack the self-confidence to see ourselves as a developed nation, self-reliant and self-assured.', 'isn’t this incorrect?', 'i have a third vision.', 'india must stand up to the world.', 'because i believe that unless india stands up to the world, no one will respect us.', 'only strength respects strength.', 'we must be strong not only as a military power but also as an economic power.', 'both must go hand-in-hand.', 'my good fortune was to have worked with three great minds.', 'dr. vikram sarabhai of the dept.', 'of space, professor satish dhawan, who succeeded him and dr. brahm prakash, father of nuclear material.', 'i was lucky to have worked with all three of them closely and consider this the great opportunity of my life.', 'i see four milestones in my career']\n"
     ]
    }
   ],
   "source": [
    "# Preparing the dataset\n",
    "nltk.download('punkt')\n",
    "sentences = nltk.sent_tokenize(text)\n",
    "print(sentences)"
   ]
  },
  {
   "cell_type": "code",
   "execution_count": 6,
   "metadata": {},
   "outputs": [
    {
     "name": "stdout",
     "output_type": "stream",
     "text": [
      "[['i', 'have', 'three', 'visions', 'for', 'india', '.'], ['in', 'years', 'of', 'our', 'history', ',', 'people', 'from', 'all', 'over', 'the', 'world', 'have', 'come', 'and', 'invaded', 'us', ',', 'captured', 'our', 'lands', ',', 'conquered', 'our', 'minds', '.'], ['from', 'alexander', 'onwards', ',', 'the', 'greeks', ',', 'the', 'turks', ',', 'the', 'moguls', ',', 'the', 'portuguese', ',', 'the', 'british', ',', 'the', 'french', ',', 'the', 'dutch', ',', 'all', 'of', 'them', 'came', 'and', 'looted', 'us', ',', 'took', 'over', 'what', 'was', 'ours', '.'], ['yet', 'we', 'have', 'not', 'done', 'this', 'to', 'any', 'other', 'nation', '.'], ['we', 'have', 'not', 'conquered', 'anyone', '.'], ['we', 'have', 'not', 'grabbed', 'their', 'land', ',', 'their', 'culture', ',', 'their', 'history', 'and', 'tried', 'to', 'enforce', 'our', 'way', 'of', 'life', 'on', 'them', '.'], ['why', '?'], ['because', 'we', 'respect', 'the', 'freedom', 'of', 'others.that', 'is', 'why', 'my', 'first', 'vision', 'is', 'that', 'of', 'freedom', '.'], ['i', 'believe', 'that', 'india', 'got', 'its', 'first', 'vision', 'of', 'this', 'in', ',', 'when', 'we', 'started', 'the', 'war', 'of', 'independence', '.'], ['it', 'is', 'this', 'freedom', 'that', 'we', 'must', 'protect', 'and', 'nurture', 'and', 'build', 'on', '.'], ['if', 'we', 'are', 'not', 'free', ',', 'no', 'one', 'will', 'respect', 'us', '.'], ['my', 'second', 'vision', 'for', 'india', '’', 's', 'development', '.'], ['for', 'fifty', 'years', 'we', 'have', 'been', 'a', 'developing', 'nation', '.'], ['it', 'is', 'time', 'we', 'see', 'ourselves', 'as', 'a', 'developed', 'nation', '.'], ['we', 'are', 'among', 'the', 'top', 'nations', 'of', 'the', 'world', 'in', 'terms', 'of', 'gdp', '.'], ['we', 'have', 'a', 'percent', 'growth', 'rate', 'in', 'most', 'areas', '.'], ['our', 'poverty', 'levels', 'are', 'falling', '.'], ['our', 'achievements', 'are', 'being', 'globally', 'recognised', 'today', '.'], ['yet', 'we', 'lack', 'the', 'self-confidence', 'to', 'see', 'ourselves', 'as', 'a', 'developed', 'nation', ',', 'self-reliant', 'and', 'self-assured', '.'], ['isn', '’', 't', 'this', 'incorrect', '?'], ['i', 'have', 'a', 'third', 'vision', '.'], ['india', 'must', 'stand', 'up', 'to', 'the', 'world', '.'], ['because', 'i', 'believe', 'that', 'unless', 'india', 'stands', 'up', 'to', 'the', 'world', ',', 'no', 'one', 'will', 'respect', 'us', '.'], ['only', 'strength', 'respects', 'strength', '.'], ['we', 'must', 'be', 'strong', 'not', 'only', 'as', 'a', 'military', 'power', 'but', 'also', 'as', 'an', 'economic', 'power', '.'], ['both', 'must', 'go', 'hand-in-hand', '.'], ['my', 'good', 'fortune', 'was', 'to', 'have', 'worked', 'with', 'three', 'great', 'minds', '.'], ['dr.', 'vikram', 'sarabhai', 'of', 'the', 'dept', '.'], ['of', 'space', ',', 'professor', 'satish', 'dhawan', ',', 'who', 'succeeded', 'him', 'and', 'dr.', 'brahm', 'prakash', ',', 'father', 'of', 'nuclear', 'material', '.'], ['i', 'was', 'lucky', 'to', 'have', 'worked', 'with', 'all', 'three', 'of', 'them', 'closely', 'and', 'consider', 'this', 'the', 'great', 'opportunity', 'of', 'my', 'life', '.'], ['i', 'see', 'four', 'milestones', 'in', 'my', 'career']]\n"
     ]
    }
   ],
   "source": [
    "sentences = [nltk.word_tokenize(sentence) for sentence in sentences]\n",
    "print(sentences)"
   ]
  },
  {
   "cell_type": "code",
   "execution_count": 8,
   "metadata": {},
   "outputs": [
    {
     "name": "stderr",
     "output_type": "stream",
     "text": [
      "[nltk_data] Downloading package stopwords to\n",
      "[nltk_data]     /Users/subham/nltk_data...\n",
      "[nltk_data]   Unzipping corpora/stopwords.zip.\n"
     ]
    }
   ],
   "source": [
    "nltk.download('stopwords')\n",
    "for i in range(len(sentences)):\n",
    "    sentences[i] = [word for word in sentences[i] if word not in stopwords.words('english')]"
   ]
  },
  {
   "cell_type": "code",
   "execution_count": 9,
   "metadata": {},
   "outputs": [],
   "source": [
    "# Training the Word2Vec model\n",
    "model = Word2Vec(sentences, min_count=1)"
   ]
  },
  {
   "cell_type": "code",
   "execution_count": 10,
   "metadata": {
    "scrolled": true
   },
   "outputs": [
    {
     "name": "stdout",
     "output_type": "stream",
     "text": [
      "{'three': <gensim.models.keyedvectors.Vocab object at 0x1a24d04190>, 'visions': <gensim.models.keyedvectors.Vocab object at 0x1a24d04490>, 'india': <gensim.models.keyedvectors.Vocab object at 0x1a24d04250>, '.': <gensim.models.keyedvectors.Vocab object at 0x1a24d042d0>, 'years': <gensim.models.keyedvectors.Vocab object at 0x1a24d04390>, 'history': <gensim.models.keyedvectors.Vocab object at 0x1a24d04210>, ',': <gensim.models.keyedvectors.Vocab object at 0x1a24d040d0>, 'people': <gensim.models.keyedvectors.Vocab object at 0x1a24d04150>, 'world': <gensim.models.keyedvectors.Vocab object at 0x1a24d04350>, 'come': <gensim.models.keyedvectors.Vocab object at 0x1a24d04450>, 'invaded': <gensim.models.keyedvectors.Vocab object at 0x1a24d01390>, 'us': <gensim.models.keyedvectors.Vocab object at 0x1a24d016d0>, 'captured': <gensim.models.keyedvectors.Vocab object at 0x1a24d01450>, 'lands': <gensim.models.keyedvectors.Vocab object at 0x1a24d01d90>, 'conquered': <gensim.models.keyedvectors.Vocab object at 0x1a24d01710>, 'minds': <gensim.models.keyedvectors.Vocab object at 0x1a24d01210>, 'alexander': <gensim.models.keyedvectors.Vocab object at 0x1a24d011d0>, 'onwards': <gensim.models.keyedvectors.Vocab object at 0x1a24d01290>, 'greeks': <gensim.models.keyedvectors.Vocab object at 0x1a24d01ad0>, 'turks': <gensim.models.keyedvectors.Vocab object at 0x1a24d017d0>, 'moguls': <gensim.models.keyedvectors.Vocab object at 0x1a24d01b50>, 'portuguese': <gensim.models.keyedvectors.Vocab object at 0x1a24d014d0>, 'british': <gensim.models.keyedvectors.Vocab object at 0x1a24d01350>, 'french': <gensim.models.keyedvectors.Vocab object at 0x1a24d01850>, 'dutch': <gensim.models.keyedvectors.Vocab object at 0x1a24d01310>, 'came': <gensim.models.keyedvectors.Vocab object at 0x1a24d01d50>, 'looted': <gensim.models.keyedvectors.Vocab object at 0x1a24d01c90>, 'took': <gensim.models.keyedvectors.Vocab object at 0x1a24d01c50>, 'yet': <gensim.models.keyedvectors.Vocab object at 0x1a24d018d0>, 'done': <gensim.models.keyedvectors.Vocab object at 0x1a24d01f10>, 'nation': <gensim.models.keyedvectors.Vocab object at 0x1a24d01510>, 'anyone': <gensim.models.keyedvectors.Vocab object at 0x1a24d015d0>, 'grabbed': <gensim.models.keyedvectors.Vocab object at 0x1a24d01a50>, 'land': <gensim.models.keyedvectors.Vocab object at 0x1a24cfea10>, 'culture': <gensim.models.keyedvectors.Vocab object at 0x1a24cfedd0>, 'tried': <gensim.models.keyedvectors.Vocab object at 0x1a24cfed90>, 'enforce': <gensim.models.keyedvectors.Vocab object at 0x1a24cfead0>, 'way': <gensim.models.keyedvectors.Vocab object at 0x1a24cfe750>, 'life': <gensim.models.keyedvectors.Vocab object at 0x1a24cfe150>, '?': <gensim.models.keyedvectors.Vocab object at 0x1a24cfe210>, 'respect': <gensim.models.keyedvectors.Vocab object at 0x1a24cfe250>, 'freedom': <gensim.models.keyedvectors.Vocab object at 0x1a24cfe110>, 'others.that': <gensim.models.keyedvectors.Vocab object at 0x1a24cfe590>, 'first': <gensim.models.keyedvectors.Vocab object at 0x1a24cfe850>, 'vision': <gensim.models.keyedvectors.Vocab object at 0x1a24cfe710>, 'believe': <gensim.models.keyedvectors.Vocab object at 0x1a24cfeb50>, 'got': <gensim.models.keyedvectors.Vocab object at 0x1a24cfe690>, 'started': <gensim.models.keyedvectors.Vocab object at 0x1a24cfe9d0>, 'war': <gensim.models.keyedvectors.Vocab object at 0x1a24cfe390>, 'independence': <gensim.models.keyedvectors.Vocab object at 0x1a24cfe490>, 'must': <gensim.models.keyedvectors.Vocab object at 0x1a24cfe410>, 'protect': <gensim.models.keyedvectors.Vocab object at 0x1a24cfe350>, 'nurture': <gensim.models.keyedvectors.Vocab object at 0x1a24cfe7d0>, 'build': <gensim.models.keyedvectors.Vocab object at 0x1a24cfe290>, 'free': <gensim.models.keyedvectors.Vocab object at 0x1a24cfee10>, 'one': <gensim.models.keyedvectors.Vocab object at 0x1a24cfe2d0>, 'second': <gensim.models.keyedvectors.Vocab object at 0x1a24cfe890>, '’': <gensim.models.keyedvectors.Vocab object at 0x1a24cfecd0>, 'development': <gensim.models.keyedvectors.Vocab object at 0x1a24cfe990>, 'fifty': <gensim.models.keyedvectors.Vocab object at 0x1a24cfef10>, 'developing': <gensim.models.keyedvectors.Vocab object at 0x1a24cfe0d0>, 'time': <gensim.models.keyedvectors.Vocab object at 0x1a24cfec10>, 'see': <gensim.models.keyedvectors.Vocab object at 0x1a24cfe910>, 'developed': <gensim.models.keyedvectors.Vocab object at 0x1a24cfeb10>, 'among': <gensim.models.keyedvectors.Vocab object at 0x1a24cfe610>, 'top': <gensim.models.keyedvectors.Vocab object at 0x1a24cfef90>, 'nations': <gensim.models.keyedvectors.Vocab object at 0x1a24cfe050>, 'terms': <gensim.models.keyedvectors.Vocab object at 0x1a24cfee90>, 'gdp': <gensim.models.keyedvectors.Vocab object at 0x1a24cfe510>, 'percent': <gensim.models.keyedvectors.Vocab object at 0x1a24d08a50>, 'growth': <gensim.models.keyedvectors.Vocab object at 0x1a24d08bd0>, 'rate': <gensim.models.keyedvectors.Vocab object at 0x1a24d08550>, 'areas': <gensim.models.keyedvectors.Vocab object at 0x1a24d08850>, 'poverty': <gensim.models.keyedvectors.Vocab object at 0x1a24d08710>, 'levels': <gensim.models.keyedvectors.Vocab object at 0x1a24a1fa10>, 'falling': <gensim.models.keyedvectors.Vocab object at 0x1a24a1f8d0>, 'achievements': <gensim.models.keyedvectors.Vocab object at 0x1a24a1fa50>, 'globally': <gensim.models.keyedvectors.Vocab object at 0x1a24a1fad0>, 'recognised': <gensim.models.keyedvectors.Vocab object at 0x1a24a1fb10>, 'today': <gensim.models.keyedvectors.Vocab object at 0x1a24a1fd10>, 'lack': <gensim.models.keyedvectors.Vocab object at 0x1a24a1fd50>, 'self-confidence': <gensim.models.keyedvectors.Vocab object at 0x1a24a2a850>, 'self-reliant': <gensim.models.keyedvectors.Vocab object at 0x1a23b3ee10>, 'self-assured': <gensim.models.keyedvectors.Vocab object at 0x1a24d00d10>, 'incorrect': <gensim.models.keyedvectors.Vocab object at 0x1a24ab2ed0>, 'third': <gensim.models.keyedvectors.Vocab object at 0x1a24abec50>, 'stand': <gensim.models.keyedvectors.Vocab object at 0x1a24cf5d90>, 'unless': <gensim.models.keyedvectors.Vocab object at 0x1a24cf5f50>, 'stands': <gensim.models.keyedvectors.Vocab object at 0x1a24cf5e90>, 'strength': <gensim.models.keyedvectors.Vocab object at 0x1a24cf5f10>, 'respects': <gensim.models.keyedvectors.Vocab object at 0x1a24cf5ed0>, 'strong': <gensim.models.keyedvectors.Vocab object at 0x1a24aca4d0>, 'military': <gensim.models.keyedvectors.Vocab object at 0x1a24aca450>, 'power': <gensim.models.keyedvectors.Vocab object at 0x10f70f4d0>, 'also': <gensim.models.keyedvectors.Vocab object at 0x1a24713090>, 'economic': <gensim.models.keyedvectors.Vocab object at 0x1a249ad410>, 'go': <gensim.models.keyedvectors.Vocab object at 0x1a22941d10>, 'hand-in-hand': <gensim.models.keyedvectors.Vocab object at 0x1a249c3a50>, 'good': <gensim.models.keyedvectors.Vocab object at 0x1a249c3d90>, 'fortune': <gensim.models.keyedvectors.Vocab object at 0x1a249c3bd0>, 'worked': <gensim.models.keyedvectors.Vocab object at 0x1a249c3b50>, 'great': <gensim.models.keyedvectors.Vocab object at 0x1a249c3a10>, 'dr.': <gensim.models.keyedvectors.Vocab object at 0x1a249c37d0>, 'vikram': <gensim.models.keyedvectors.Vocab object at 0x1a249c38d0>, 'sarabhai': <gensim.models.keyedvectors.Vocab object at 0x1a249c3ad0>, 'dept': <gensim.models.keyedvectors.Vocab object at 0x1a249c3990>, 'space': <gensim.models.keyedvectors.Vocab object at 0x1118789d0>, 'professor': <gensim.models.keyedvectors.Vocab object at 0x1a23baa350>, 'satish': <gensim.models.keyedvectors.Vocab object at 0x1a23baa390>, 'dhawan': <gensim.models.keyedvectors.Vocab object at 0x1a23baa750>, 'succeeded': <gensim.models.keyedvectors.Vocab object at 0x1a23baa850>, 'brahm': <gensim.models.keyedvectors.Vocab object at 0x1a24899e90>, 'prakash': <gensim.models.keyedvectors.Vocab object at 0x1a234fb6d0>, 'father': <gensim.models.keyedvectors.Vocab object at 0x1a24d08650>, 'nuclear': <gensim.models.keyedvectors.Vocab object at 0x1a24d08890>, 'material': <gensim.models.keyedvectors.Vocab object at 0x1a24d08390>, 'lucky': <gensim.models.keyedvectors.Vocab object at 0x1a24d08690>, 'closely': <gensim.models.keyedvectors.Vocab object at 0x1a24d08450>, 'consider': <gensim.models.keyedvectors.Vocab object at 0x1a24d087d0>, 'opportunity': <gensim.models.keyedvectors.Vocab object at 0x1a24d08510>, 'four': <gensim.models.keyedvectors.Vocab object at 0x1a24d084d0>, 'milestones': <gensim.models.keyedvectors.Vocab object at 0x1a24d083d0>, 'career': <gensim.models.keyedvectors.Vocab object at 0x1a24d08610>}\n"
     ]
    }
   ],
   "source": [
    "words = model.wv.vocab\n",
    "print(words)\n"
   ]
  },
  {
   "cell_type": "code",
   "execution_count": 11,
   "metadata": {
    "scrolled": true
   },
   "outputs": [
    {
     "name": "stdout",
     "output_type": "stream",
     "text": [
      "[ 7.3725509e-04 -1.5990585e-03 -1.8903203e-03  3.3855445e-03\n",
      " -3.6826928e-03 -1.1749552e-03  4.4237445e-03 -2.6993065e-03\n",
      "  4.6751671e-03  4.4990275e-03  4.7907839e-03  4.1208966e-03\n",
      "  1.8541210e-03  1.6331370e-03  4.9891621e-03  2.9958910e-03\n",
      " -1.9992236e-03  2.9912994e-03  1.4910147e-03 -4.2975917e-03\n",
      " -3.1469336e-03  7.2876544e-04 -4.5553530e-03 -2.4127481e-03\n",
      " -3.0142663e-03 -1.5103614e-03  2.2034557e-03 -5.7490688e-04\n",
      " -4.5537474e-03 -1.5489217e-03  1.9885502e-03 -3.0205871e-03\n",
      "  2.4769865e-03  1.2984837e-03  4.5801490e-03 -4.8603630e-03\n",
      " -4.2162786e-04 -4.4536814e-03 -9.7131869e-04  2.4077457e-03\n",
      "  3.1503944e-03 -3.7972934e-03 -2.4057166e-03 -3.5871274e-04\n",
      " -8.6231634e-04  3.4141827e-03 -3.8067603e-03 -1.6978787e-03\n",
      " -3.0406697e-03 -3.8546687e-03 -4.2168321e-03  1.2235425e-03\n",
      " -1.4204511e-03 -3.4835436e-03  4.7557093e-03 -1.0115828e-03\n",
      " -4.1063852e-03  1.4720425e-03 -3.3112193e-04  3.1718081e-03\n",
      " -3.3765510e-03 -4.6965587e-03  4.7144988e-03  1.9389816e-03\n",
      " -2.6814984e-03 -3.2777616e-03 -4.1842242e-03 -3.1364008e-03\n",
      " -4.1368632e-03  4.4432562e-03 -1.4816300e-06 -1.7838837e-03\n",
      " -2.1759605e-03 -2.3434872e-03  1.6629724e-03 -3.4414462e-03\n",
      " -9.7788090e-04  2.9181361e-03  2.8241328e-03 -2.1723456e-04\n",
      "  4.7637983e-03  4.6195206e-03 -3.9303587e-03  3.8421664e-03\n",
      " -1.9690737e-03 -3.7905676e-03 -2.0363466e-03  1.0747450e-03\n",
      " -1.0841291e-03 -3.7697388e-03 -4.5750402e-03 -3.2998654e-03\n",
      " -4.4284095e-03 -4.4360482e-03  4.1230442e-03  4.8710117e-03\n",
      "  4.0995842e-03  4.6812422e-03 -4.1365880e-03 -2.3123333e-03]\n"
     ]
    }
   ],
   "source": [
    "\n",
    "# Finding Word Vectors\n",
    "vector = model.wv['war']\n",
    "print(vector)\n"
   ]
  },
  {
   "cell_type": "code",
   "execution_count": 13,
   "metadata": {},
   "outputs": [
    {
     "name": "stdout",
     "output_type": "stream",
     "text": [
      "[('alexander', 0.2564823031425476), ('enforce', 0.23753264546394348), ('self-reliant', 0.21304483711719513), ('today', 0.19373637437820435), ('terms', 0.19111204147338867), ('onwards', 0.18925222754478455), ('fifty', 0.18535244464874268), ('portuguese', 0.18481190502643585), ('greeks', 0.18010994791984558), ('anyone', 0.1548530012369156)]\n"
     ]
    }
   ],
   "source": [
    "# Most similar words\n",
    "similar = model.wv.most_similar('vikram')\n",
    "print(similar)"
   ]
  },
  {
   "cell_type": "code",
   "execution_count": null,
   "metadata": {},
   "outputs": [],
   "source": []
  }
 ],
 "metadata": {
  "kernelspec": {
   "display_name": "Python 3",
   "language": "python",
   "name": "python3"
  },
  "language_info": {
   "codemirror_mode": {
    "name": "ipython",
    "version": 3
   },
   "file_extension": ".py",
   "mimetype": "text/x-python",
   "name": "python",
   "nbconvert_exporter": "python",
   "pygments_lexer": "ipython3",
   "version": "3.7.4"
  }
 },
 "nbformat": 4,
 "nbformat_minor": 2
}
